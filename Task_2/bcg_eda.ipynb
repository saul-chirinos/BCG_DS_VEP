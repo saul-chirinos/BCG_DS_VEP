{
 "cells": [
  {
   "cell_type": "markdown",
   "metadata": {},
   "source": [
    "# Exploratory Data Analysis and Cleaning\n",
    "\n",
    "## Getting Started"
   ]
  },
  {
   "cell_type": "code",
   "execution_count": 24,
   "metadata": {},
   "outputs": [],
   "source": [
    "import os\n",
    "import pandas as pd\n",
    "import numpy as np\n",
    "import matplotlib.pyplot as plt\n",
    "import seaborn as sns\n",
    "import missingno as msno\n",
    "\n",
    "# Plot style\n",
    "sns.set()\n",
    "\n",
    "# Format outputs\n",
    "pd.set_option('display.float_format', lambda x: '%.3f' % x)\n",
    "pd.options.display.max_columns = None\n",
    "\n",
    "%matplotlib inline"
   ]
  },
  {
   "cell_type": "code",
   "execution_count": 3,
   "metadata": {},
   "outputs": [],
   "source": [
    "os.chdir('..')"
   ]
  },
  {
   "cell_type": "code",
   "execution_count": 8,
   "metadata": {},
   "outputs": [],
   "source": [
    "# Load datasets\n",
    "customer_data = pd.read_csv('Data/client_data.csv')\n",
    "price_data = pd.read_csv('Data/price_data.csv')"
   ]
  },
  {
   "cell_type": "markdown",
   "metadata": {},
   "source": [
    "## Data Cleaning and Preprocessing"
   ]
  },
  {
   "cell_type": "code",
   "execution_count": 25,
   "metadata": {},
   "outputs": [
    {
     "data": {
      "text/html": [
       "<div>\n",
       "<style scoped>\n",
       "    .dataframe tbody tr th:only-of-type {\n",
       "        vertical-align: middle;\n",
       "    }\n",
       "\n",
       "    .dataframe tbody tr th {\n",
       "        vertical-align: top;\n",
       "    }\n",
       "\n",
       "    .dataframe thead th {\n",
       "        text-align: right;\n",
       "    }\n",
       "</style>\n",
       "<table border=\"1\" class=\"dataframe\">\n",
       "  <thead>\n",
       "    <tr style=\"text-align: right;\">\n",
       "      <th></th>\n",
       "      <th>id</th>\n",
       "      <th>channel_sales</th>\n",
       "      <th>cons_12m</th>\n",
       "      <th>cons_gas_12m</th>\n",
       "      <th>cons_last_month</th>\n",
       "      <th>date_activ</th>\n",
       "      <th>date_end</th>\n",
       "      <th>date_modif_prod</th>\n",
       "      <th>date_renewal</th>\n",
       "      <th>forecast_cons_12m</th>\n",
       "      <th>forecast_cons_year</th>\n",
       "      <th>forecast_discount_energy</th>\n",
       "      <th>forecast_meter_rent_12m</th>\n",
       "      <th>forecast_price_energy_off_peak</th>\n",
       "      <th>forecast_price_energy_peak</th>\n",
       "      <th>forecast_price_pow_off_peak</th>\n",
       "      <th>has_gas</th>\n",
       "      <th>imp_cons</th>\n",
       "      <th>margin_gross_pow_ele</th>\n",
       "      <th>margin_net_pow_ele</th>\n",
       "      <th>nb_prod_act</th>\n",
       "      <th>net_margin</th>\n",
       "      <th>num_years_antig</th>\n",
       "      <th>origin_up</th>\n",
       "      <th>pow_max</th>\n",
       "      <th>churn</th>\n",
       "    </tr>\n",
       "  </thead>\n",
       "  <tbody>\n",
       "    <tr>\n",
       "      <th>0</th>\n",
       "      <td>24011ae4ebbe3035111d65fa7c15bc57</td>\n",
       "      <td>foosdfpfkusacimwkcsosbicdxkicaua</td>\n",
       "      <td>0</td>\n",
       "      <td>54946</td>\n",
       "      <td>0</td>\n",
       "      <td>2013-06-15</td>\n",
       "      <td>2016-06-15</td>\n",
       "      <td>2015-11-01</td>\n",
       "      <td>2015-06-23</td>\n",
       "      <td>0.000</td>\n",
       "      <td>0</td>\n",
       "      <td>0.000</td>\n",
       "      <td>1.780</td>\n",
       "      <td>0.114</td>\n",
       "      <td>0.098</td>\n",
       "      <td>40.607</td>\n",
       "      <td>t</td>\n",
       "      <td>0.000</td>\n",
       "      <td>25.440</td>\n",
       "      <td>25.440</td>\n",
       "      <td>2</td>\n",
       "      <td>678.990</td>\n",
       "      <td>3</td>\n",
       "      <td>lxidpiddsbxsbosboudacockeimpuepw</td>\n",
       "      <td>43.648</td>\n",
       "      <td>1</td>\n",
       "    </tr>\n",
       "    <tr>\n",
       "      <th>1</th>\n",
       "      <td>d29c2c54acc38ff3c0614d0a653813dd</td>\n",
       "      <td>MISSING</td>\n",
       "      <td>4660</td>\n",
       "      <td>0</td>\n",
       "      <td>0</td>\n",
       "      <td>2009-08-21</td>\n",
       "      <td>2016-08-30</td>\n",
       "      <td>2009-08-21</td>\n",
       "      <td>2015-08-31</td>\n",
       "      <td>189.950</td>\n",
       "      <td>0</td>\n",
       "      <td>0.000</td>\n",
       "      <td>16.270</td>\n",
       "      <td>0.146</td>\n",
       "      <td>0.000</td>\n",
       "      <td>44.311</td>\n",
       "      <td>f</td>\n",
       "      <td>0.000</td>\n",
       "      <td>16.380</td>\n",
       "      <td>16.380</td>\n",
       "      <td>1</td>\n",
       "      <td>18.890</td>\n",
       "      <td>6</td>\n",
       "      <td>kamkkxfxxuwbdslkwifmmcsiusiuosws</td>\n",
       "      <td>13.800</td>\n",
       "      <td>0</td>\n",
       "    </tr>\n",
       "    <tr>\n",
       "      <th>2</th>\n",
       "      <td>764c75f661154dac3a6c254cd082ea7d</td>\n",
       "      <td>foosdfpfkusacimwkcsosbicdxkicaua</td>\n",
       "      <td>544</td>\n",
       "      <td>0</td>\n",
       "      <td>0</td>\n",
       "      <td>2010-04-16</td>\n",
       "      <td>2016-04-16</td>\n",
       "      <td>2010-04-16</td>\n",
       "      <td>2015-04-17</td>\n",
       "      <td>47.960</td>\n",
       "      <td>0</td>\n",
       "      <td>0.000</td>\n",
       "      <td>38.720</td>\n",
       "      <td>0.166</td>\n",
       "      <td>0.088</td>\n",
       "      <td>44.311</td>\n",
       "      <td>f</td>\n",
       "      <td>0.000</td>\n",
       "      <td>28.600</td>\n",
       "      <td>28.600</td>\n",
       "      <td>1</td>\n",
       "      <td>6.600</td>\n",
       "      <td>6</td>\n",
       "      <td>kamkkxfxxuwbdslkwifmmcsiusiuosws</td>\n",
       "      <td>13.856</td>\n",
       "      <td>0</td>\n",
       "    </tr>\n",
       "    <tr>\n",
       "      <th>3</th>\n",
       "      <td>bba03439a292a1e166f80264c16191cb</td>\n",
       "      <td>lmkebamcaaclubfxadlmueccxoimlema</td>\n",
       "      <td>1584</td>\n",
       "      <td>0</td>\n",
       "      <td>0</td>\n",
       "      <td>2010-03-30</td>\n",
       "      <td>2016-03-30</td>\n",
       "      <td>2010-03-30</td>\n",
       "      <td>2015-03-31</td>\n",
       "      <td>240.040</td>\n",
       "      <td>0</td>\n",
       "      <td>0.000</td>\n",
       "      <td>19.830</td>\n",
       "      <td>0.147</td>\n",
       "      <td>0.000</td>\n",
       "      <td>44.311</td>\n",
       "      <td>f</td>\n",
       "      <td>0.000</td>\n",
       "      <td>30.220</td>\n",
       "      <td>30.220</td>\n",
       "      <td>1</td>\n",
       "      <td>25.460</td>\n",
       "      <td>6</td>\n",
       "      <td>kamkkxfxxuwbdslkwifmmcsiusiuosws</td>\n",
       "      <td>13.200</td>\n",
       "      <td>0</td>\n",
       "    </tr>\n",
       "    <tr>\n",
       "      <th>4</th>\n",
       "      <td>149d57cf92fc41cf94415803a877cb4b</td>\n",
       "      <td>MISSING</td>\n",
       "      <td>4425</td>\n",
       "      <td>0</td>\n",
       "      <td>526</td>\n",
       "      <td>2010-01-13</td>\n",
       "      <td>2016-03-07</td>\n",
       "      <td>2010-01-13</td>\n",
       "      <td>2015-03-09</td>\n",
       "      <td>445.750</td>\n",
       "      <td>526</td>\n",
       "      <td>0.000</td>\n",
       "      <td>131.730</td>\n",
       "      <td>0.117</td>\n",
       "      <td>0.100</td>\n",
       "      <td>40.607</td>\n",
       "      <td>f</td>\n",
       "      <td>52.320</td>\n",
       "      <td>44.910</td>\n",
       "      <td>44.910</td>\n",
       "      <td>1</td>\n",
       "      <td>47.980</td>\n",
       "      <td>6</td>\n",
       "      <td>kamkkxfxxuwbdslkwifmmcsiusiuosws</td>\n",
       "      <td>19.800</td>\n",
       "      <td>0</td>\n",
       "    </tr>\n",
       "  </tbody>\n",
       "</table>\n",
       "</div>"
      ],
      "text/plain": [
       "                                 id                     channel_sales  \\\n",
       "0  24011ae4ebbe3035111d65fa7c15bc57  foosdfpfkusacimwkcsosbicdxkicaua   \n",
       "1  d29c2c54acc38ff3c0614d0a653813dd                           MISSING   \n",
       "2  764c75f661154dac3a6c254cd082ea7d  foosdfpfkusacimwkcsosbicdxkicaua   \n",
       "3  bba03439a292a1e166f80264c16191cb  lmkebamcaaclubfxadlmueccxoimlema   \n",
       "4  149d57cf92fc41cf94415803a877cb4b                           MISSING   \n",
       "\n",
       "   cons_12m  cons_gas_12m  cons_last_month  date_activ    date_end  \\\n",
       "0         0         54946                0  2013-06-15  2016-06-15   \n",
       "1      4660             0                0  2009-08-21  2016-08-30   \n",
       "2       544             0                0  2010-04-16  2016-04-16   \n",
       "3      1584             0                0  2010-03-30  2016-03-30   \n",
       "4      4425             0              526  2010-01-13  2016-03-07   \n",
       "\n",
       "  date_modif_prod date_renewal  forecast_cons_12m  forecast_cons_year  \\\n",
       "0      2015-11-01   2015-06-23              0.000                   0   \n",
       "1      2009-08-21   2015-08-31            189.950                   0   \n",
       "2      2010-04-16   2015-04-17             47.960                   0   \n",
       "3      2010-03-30   2015-03-31            240.040                   0   \n",
       "4      2010-01-13   2015-03-09            445.750                 526   \n",
       "\n",
       "   forecast_discount_energy  forecast_meter_rent_12m  \\\n",
       "0                     0.000                    1.780   \n",
       "1                     0.000                   16.270   \n",
       "2                     0.000                   38.720   \n",
       "3                     0.000                   19.830   \n",
       "4                     0.000                  131.730   \n",
       "\n",
       "   forecast_price_energy_off_peak  forecast_price_energy_peak  \\\n",
       "0                           0.114                       0.098   \n",
       "1                           0.146                       0.000   \n",
       "2                           0.166                       0.088   \n",
       "3                           0.147                       0.000   \n",
       "4                           0.117                       0.100   \n",
       "\n",
       "   forecast_price_pow_off_peak has_gas  imp_cons  margin_gross_pow_ele  \\\n",
       "0                       40.607       t     0.000                25.440   \n",
       "1                       44.311       f     0.000                16.380   \n",
       "2                       44.311       f     0.000                28.600   \n",
       "3                       44.311       f     0.000                30.220   \n",
       "4                       40.607       f    52.320                44.910   \n",
       "\n",
       "   margin_net_pow_ele  nb_prod_act  net_margin  num_years_antig  \\\n",
       "0              25.440            2     678.990                3   \n",
       "1              16.380            1      18.890                6   \n",
       "2              28.600            1       6.600                6   \n",
       "3              30.220            1      25.460                6   \n",
       "4              44.910            1      47.980                6   \n",
       "\n",
       "                          origin_up  pow_max  churn  \n",
       "0  lxidpiddsbxsbosboudacockeimpuepw   43.648      1  \n",
       "1  kamkkxfxxuwbdslkwifmmcsiusiuosws   13.800      0  \n",
       "2  kamkkxfxxuwbdslkwifmmcsiusiuosws   13.856      0  \n",
       "3  kamkkxfxxuwbdslkwifmmcsiusiuosws   13.200      0  \n",
       "4  kamkkxfxxuwbdslkwifmmcsiusiuosws   19.800      0  "
      ]
     },
     "metadata": {},
     "output_type": "display_data"
    },
    {
     "data": {
      "text/html": [
       "<div>\n",
       "<style scoped>\n",
       "    .dataframe tbody tr th:only-of-type {\n",
       "        vertical-align: middle;\n",
       "    }\n",
       "\n",
       "    .dataframe tbody tr th {\n",
       "        vertical-align: top;\n",
       "    }\n",
       "\n",
       "    .dataframe thead th {\n",
       "        text-align: right;\n",
       "    }\n",
       "</style>\n",
       "<table border=\"1\" class=\"dataframe\">\n",
       "  <thead>\n",
       "    <tr style=\"text-align: right;\">\n",
       "      <th></th>\n",
       "      <th>id</th>\n",
       "      <th>price_date</th>\n",
       "      <th>price_off_peak_var</th>\n",
       "      <th>price_peak_var</th>\n",
       "      <th>price_mid_peak_var</th>\n",
       "      <th>price_off_peak_fix</th>\n",
       "      <th>price_peak_fix</th>\n",
       "      <th>price_mid_peak_fix</th>\n",
       "    </tr>\n",
       "  </thead>\n",
       "  <tbody>\n",
       "    <tr>\n",
       "      <th>0</th>\n",
       "      <td>038af19179925da21a25619c5a24b745</td>\n",
       "      <td>2015-01-01</td>\n",
       "      <td>0.151</td>\n",
       "      <td>0.000</td>\n",
       "      <td>0.000</td>\n",
       "      <td>44.267</td>\n",
       "      <td>0.000</td>\n",
       "      <td>0.000</td>\n",
       "    </tr>\n",
       "    <tr>\n",
       "      <th>1</th>\n",
       "      <td>038af19179925da21a25619c5a24b745</td>\n",
       "      <td>2015-02-01</td>\n",
       "      <td>0.151</td>\n",
       "      <td>0.000</td>\n",
       "      <td>0.000</td>\n",
       "      <td>44.267</td>\n",
       "      <td>0.000</td>\n",
       "      <td>0.000</td>\n",
       "    </tr>\n",
       "    <tr>\n",
       "      <th>2</th>\n",
       "      <td>038af19179925da21a25619c5a24b745</td>\n",
       "      <td>2015-03-01</td>\n",
       "      <td>0.151</td>\n",
       "      <td>0.000</td>\n",
       "      <td>0.000</td>\n",
       "      <td>44.267</td>\n",
       "      <td>0.000</td>\n",
       "      <td>0.000</td>\n",
       "    </tr>\n",
       "    <tr>\n",
       "      <th>3</th>\n",
       "      <td>038af19179925da21a25619c5a24b745</td>\n",
       "      <td>2015-04-01</td>\n",
       "      <td>0.150</td>\n",
       "      <td>0.000</td>\n",
       "      <td>0.000</td>\n",
       "      <td>44.267</td>\n",
       "      <td>0.000</td>\n",
       "      <td>0.000</td>\n",
       "    </tr>\n",
       "    <tr>\n",
       "      <th>4</th>\n",
       "      <td>038af19179925da21a25619c5a24b745</td>\n",
       "      <td>2015-05-01</td>\n",
       "      <td>0.150</td>\n",
       "      <td>0.000</td>\n",
       "      <td>0.000</td>\n",
       "      <td>44.267</td>\n",
       "      <td>0.000</td>\n",
       "      <td>0.000</td>\n",
       "    </tr>\n",
       "  </tbody>\n",
       "</table>\n",
       "</div>"
      ],
      "text/plain": [
       "                                 id  price_date  price_off_peak_var  \\\n",
       "0  038af19179925da21a25619c5a24b745  2015-01-01               0.151   \n",
       "1  038af19179925da21a25619c5a24b745  2015-02-01               0.151   \n",
       "2  038af19179925da21a25619c5a24b745  2015-03-01               0.151   \n",
       "3  038af19179925da21a25619c5a24b745  2015-04-01               0.150   \n",
       "4  038af19179925da21a25619c5a24b745  2015-05-01               0.150   \n",
       "\n",
       "   price_peak_var  price_mid_peak_var  price_off_peak_fix  price_peak_fix  \\\n",
       "0           0.000               0.000              44.267           0.000   \n",
       "1           0.000               0.000              44.267           0.000   \n",
       "2           0.000               0.000              44.267           0.000   \n",
       "3           0.000               0.000              44.267           0.000   \n",
       "4           0.000               0.000              44.267           0.000   \n",
       "\n",
       "   price_mid_peak_fix  \n",
       "0               0.000  \n",
       "1               0.000  \n",
       "2               0.000  \n",
       "3               0.000  \n",
       "4               0.000  "
      ]
     },
     "metadata": {},
     "output_type": "display_data"
    }
   ],
   "source": [
    "# View first few rows of each dataframe\n",
    "display(customer_data.head())\n",
    "display(price_data.head())"
   ]
  },
  {
   "cell_type": "code",
   "execution_count": 10,
   "metadata": {},
   "outputs": [
    {
     "name": "stdout",
     "output_type": "stream",
     "text": [
      "(14606, 26)\n",
      "(193002, 8)\n"
     ]
    }
   ],
   "source": [
    "# Show the number of rows and columns\n",
    "print(customer_data.shape)\n",
    "print(price_data.shape)"
   ]
  },
  {
   "cell_type": "code",
   "execution_count": 17,
   "metadata": {},
   "outputs": [
    {
     "data": {
      "text/plain": [
       "(175149, 33)"
      ]
     },
     "execution_count": 17,
     "metadata": {},
     "output_type": "execute_result"
    }
   ],
   "source": [
    "# Merge data\n",
    "energy_data = pd.merge(customer_data, price_data, on='id')\n",
    "energy_data.shape"
   ]
  },
  {
   "cell_type": "code",
   "execution_count": 26,
   "metadata": {},
   "outputs": [
    {
     "name": "stdout",
     "output_type": "stream",
     "text": [
      "<class 'pandas.core.frame.DataFrame'>\n",
      "Int64Index: 175149 entries, 0 to 175148\n",
      "Data columns (total 33 columns):\n",
      " #   Column                          Non-Null Count   Dtype         \n",
      "---  ------                          --------------   -----         \n",
      " 0   id                              175149 non-null  object        \n",
      " 1   channel_sales                   175149 non-null  object        \n",
      " 2   cons_12m                        175149 non-null  int64         \n",
      " 3   cons_gas_12m                    175149 non-null  int64         \n",
      " 4   cons_last_month                 175149 non-null  int64         \n",
      " 5   date_activ                      175149 non-null  datetime64[ns]\n",
      " 6   date_end                        175149 non-null  datetime64[ns]\n",
      " 7   date_modif_prod                 175149 non-null  datetime64[ns]\n",
      " 8   date_renewal                    175149 non-null  datetime64[ns]\n",
      " 9   forecast_cons_12m               175149 non-null  float64       \n",
      " 10  forecast_cons_year              175149 non-null  int64         \n",
      " 11  forecast_discount_energy        175149 non-null  float64       \n",
      " 12  forecast_meter_rent_12m         175149 non-null  float64       \n",
      " 13  forecast_price_energy_off_peak  175149 non-null  float64       \n",
      " 14  forecast_price_energy_peak      175149 non-null  float64       \n",
      " 15  forecast_price_pow_off_peak     175149 non-null  float64       \n",
      " 16  has_gas                         175149 non-null  object        \n",
      " 17  imp_cons                        175149 non-null  float64       \n",
      " 18  margin_gross_pow_ele            175149 non-null  float64       \n",
      " 19  margin_net_pow_ele              175149 non-null  float64       \n",
      " 20  nb_prod_act                     175149 non-null  int64         \n",
      " 21  net_margin                      175149 non-null  float64       \n",
      " 22  num_years_antig                 175149 non-null  int64         \n",
      " 23  origin_up                       175149 non-null  object        \n",
      " 24  pow_max                         175149 non-null  float64       \n",
      " 25  churn                           175149 non-null  int64         \n",
      " 26  price_date                      175149 non-null  datetime64[ns]\n",
      " 27  price_off_peak_var              175149 non-null  float64       \n",
      " 28  price_peak_var                  175149 non-null  float64       \n",
      " 29  price_mid_peak_var              175149 non-null  float64       \n",
      " 30  price_off_peak_fix              175149 non-null  float64       \n",
      " 31  price_peak_fix                  175149 non-null  float64       \n",
      " 32  price_mid_peak_fix              175149 non-null  float64       \n",
      "dtypes: datetime64[ns](5), float64(17), int64(7), object(4)\n",
      "memory usage: 45.4+ MB\n"
     ]
    }
   ],
   "source": [
    "# Explore new training_df\n",
    "energy_data.info()"
   ]
  },
  {
   "cell_type": "markdown",
   "metadata": {},
   "source": [
    "We can see that all the columns representing a date is not in the proper format so we should convert these to datetime format. There also seems to be some missing values in many columns. Let's explore these further."
   ]
  },
  {
   "cell_type": "code",
   "execution_count": 21,
   "metadata": {},
   "outputs": [],
   "source": [
    "# Convert date columns to datetime format\n",
    "date_cols = ['date_activ', 'date_end', 'date_modif_prod', 'date_renewal', 'price_date']\n",
    "\n",
    "energy_data[date_cols] = energy_data[date_cols].apply(lambda x: x.astype('datetime64'))\n",
    "for col in date_cols:\n",
    "    assert energy_data[col].dtype == 'datetime64[ns]'"
   ]
  },
  {
   "cell_type": "code",
   "execution_count": 27,
   "metadata": {},
   "outputs": [
    {
     "data": {
      "text/html": [
       "<div>\n",
       "<style scoped>\n",
       "    .dataframe tbody tr th:only-of-type {\n",
       "        vertical-align: middle;\n",
       "    }\n",
       "\n",
       "    .dataframe tbody tr th {\n",
       "        vertical-align: top;\n",
       "    }\n",
       "\n",
       "    .dataframe thead th {\n",
       "        text-align: right;\n",
       "    }\n",
       "</style>\n",
       "<table border=\"1\" class=\"dataframe\">\n",
       "  <thead>\n",
       "    <tr style=\"text-align: right;\">\n",
       "      <th></th>\n",
       "      <th>cons_12m</th>\n",
       "      <th>cons_gas_12m</th>\n",
       "      <th>cons_last_month</th>\n",
       "      <th>forecast_cons_12m</th>\n",
       "      <th>forecast_cons_year</th>\n",
       "      <th>forecast_discount_energy</th>\n",
       "      <th>forecast_meter_rent_12m</th>\n",
       "      <th>forecast_price_energy_off_peak</th>\n",
       "      <th>forecast_price_energy_peak</th>\n",
       "      <th>forecast_price_pow_off_peak</th>\n",
       "      <th>imp_cons</th>\n",
       "      <th>margin_gross_pow_ele</th>\n",
       "      <th>margin_net_pow_ele</th>\n",
       "      <th>nb_prod_act</th>\n",
       "      <th>net_margin</th>\n",
       "      <th>num_years_antig</th>\n",
       "      <th>pow_max</th>\n",
       "      <th>churn</th>\n",
       "      <th>price_off_peak_var</th>\n",
       "      <th>price_peak_var</th>\n",
       "      <th>price_mid_peak_var</th>\n",
       "      <th>price_off_peak_fix</th>\n",
       "      <th>price_peak_fix</th>\n",
       "      <th>price_mid_peak_fix</th>\n",
       "    </tr>\n",
       "  </thead>\n",
       "  <tbody>\n",
       "    <tr>\n",
       "      <th>count</th>\n",
       "      <td>175149.000</td>\n",
       "      <td>175149.000</td>\n",
       "      <td>175149.000</td>\n",
       "      <td>175149.000</td>\n",
       "      <td>175149.000</td>\n",
       "      <td>175149.000</td>\n",
       "      <td>175149.000</td>\n",
       "      <td>175149.000</td>\n",
       "      <td>175149.000</td>\n",
       "      <td>175149.000</td>\n",
       "      <td>175149.000</td>\n",
       "      <td>175149.000</td>\n",
       "      <td>175149.000</td>\n",
       "      <td>175149.000</td>\n",
       "      <td>175149.000</td>\n",
       "      <td>175149.000</td>\n",
       "      <td>175149.000</td>\n",
       "      <td>175149.000</td>\n",
       "      <td>175149.000</td>\n",
       "      <td>175149.000</td>\n",
       "      <td>175149.000</td>\n",
       "      <td>175149.000</td>\n",
       "      <td>175149.000</td>\n",
       "      <td>175149.000</td>\n",
       "    </tr>\n",
       "    <tr>\n",
       "      <th>mean</th>\n",
       "      <td>159260.579</td>\n",
       "      <td>28080.718</td>\n",
       "      <td>16095.518</td>\n",
       "      <td>1868.344</td>\n",
       "      <td>1399.782</td>\n",
       "      <td>0.967</td>\n",
       "      <td>63.075</td>\n",
       "      <td>0.137</td>\n",
       "      <td>0.050</td>\n",
       "      <td>43.130</td>\n",
       "      <td>152.790</td>\n",
       "      <td>24.567</td>\n",
       "      <td>24.564</td>\n",
       "      <td>1.292</td>\n",
       "      <td>189.245</td>\n",
       "      <td>4.998</td>\n",
       "      <td>18.135</td>\n",
       "      <td>0.097</td>\n",
       "      <td>0.142</td>\n",
       "      <td>0.052</td>\n",
       "      <td>0.028</td>\n",
       "      <td>42.929</td>\n",
       "      <td>9.459</td>\n",
       "      <td>6.096</td>\n",
       "    </tr>\n",
       "    <tr>\n",
       "      <th>std</th>\n",
       "      <td>573541.331</td>\n",
       "      <td>162940.034</td>\n",
       "      <td>64376.742</td>\n",
       "      <td>2387.560</td>\n",
       "      <td>3248.331</td>\n",
       "      <td>5.109</td>\n",
       "      <td>66.144</td>\n",
       "      <td>0.025</td>\n",
       "      <td>0.049</td>\n",
       "      <td>4.487</td>\n",
       "      <td>341.427</td>\n",
       "      <td>20.234</td>\n",
       "      <td>20.234</td>\n",
       "      <td>0.710</td>\n",
       "      <td>311.847</td>\n",
       "      <td>1.612</td>\n",
       "      <td>13.536</td>\n",
       "      <td>0.296</td>\n",
       "      <td>0.023</td>\n",
       "      <td>0.050</td>\n",
       "      <td>0.036</td>\n",
       "      <td>4.621</td>\n",
       "      <td>12.133</td>\n",
       "      <td>7.822</td>\n",
       "    </tr>\n",
       "    <tr>\n",
       "      <th>min</th>\n",
       "      <td>0.000</td>\n",
       "      <td>0.000</td>\n",
       "      <td>0.000</td>\n",
       "      <td>0.000</td>\n",
       "      <td>0.000</td>\n",
       "      <td>0.000</td>\n",
       "      <td>0.000</td>\n",
       "      <td>0.000</td>\n",
       "      <td>0.000</td>\n",
       "      <td>0.000</td>\n",
       "      <td>0.000</td>\n",
       "      <td>0.000</td>\n",
       "      <td>0.000</td>\n",
       "      <td>1.000</td>\n",
       "      <td>0.000</td>\n",
       "      <td>1.000</td>\n",
       "      <td>3.300</td>\n",
       "      <td>0.000</td>\n",
       "      <td>0.000</td>\n",
       "      <td>0.000</td>\n",
       "      <td>0.000</td>\n",
       "      <td>0.000</td>\n",
       "      <td>0.000</td>\n",
       "      <td>0.000</td>\n",
       "    </tr>\n",
       "    <tr>\n",
       "      <th>25%</th>\n",
       "      <td>5674.000</td>\n",
       "      <td>0.000</td>\n",
       "      <td>0.000</td>\n",
       "      <td>494.980</td>\n",
       "      <td>0.000</td>\n",
       "      <td>0.000</td>\n",
       "      <td>16.180</td>\n",
       "      <td>0.116</td>\n",
       "      <td>0.000</td>\n",
       "      <td>40.607</td>\n",
       "      <td>0.000</td>\n",
       "      <td>14.280</td>\n",
       "      <td>14.280</td>\n",
       "      <td>1.000</td>\n",
       "      <td>50.710</td>\n",
       "      <td>4.000</td>\n",
       "      <td>12.500</td>\n",
       "      <td>0.000</td>\n",
       "      <td>0.127</td>\n",
       "      <td>0.000</td>\n",
       "      <td>0.000</td>\n",
       "      <td>40.729</td>\n",
       "      <td>0.000</td>\n",
       "      <td>0.000</td>\n",
       "    </tr>\n",
       "    <tr>\n",
       "      <th>50%</th>\n",
       "      <td>14115.000</td>\n",
       "      <td>0.000</td>\n",
       "      <td>792.000</td>\n",
       "      <td>1112.610</td>\n",
       "      <td>314.000</td>\n",
       "      <td>0.000</td>\n",
       "      <td>18.790</td>\n",
       "      <td>0.143</td>\n",
       "      <td>0.084</td>\n",
       "      <td>44.311</td>\n",
       "      <td>37.390</td>\n",
       "      <td>21.640</td>\n",
       "      <td>21.640</td>\n",
       "      <td>1.000</td>\n",
       "      <td>112.500</td>\n",
       "      <td>5.000</td>\n",
       "      <td>13.856</td>\n",
       "      <td>0.000</td>\n",
       "      <td>0.147</td>\n",
       "      <td>0.084</td>\n",
       "      <td>0.000</td>\n",
       "      <td>44.267</td>\n",
       "      <td>0.000</td>\n",
       "      <td>0.000</td>\n",
       "    </tr>\n",
       "    <tr>\n",
       "      <th>75%</th>\n",
       "      <td>40763.000</td>\n",
       "      <td>0.000</td>\n",
       "      <td>3383.000</td>\n",
       "      <td>2400.350</td>\n",
       "      <td>1745.000</td>\n",
       "      <td>0.000</td>\n",
       "      <td>131.030</td>\n",
       "      <td>0.146</td>\n",
       "      <td>0.099</td>\n",
       "      <td>44.311</td>\n",
       "      <td>193.990</td>\n",
       "      <td>29.880</td>\n",
       "      <td>29.880</td>\n",
       "      <td>1.000</td>\n",
       "      <td>243.000</td>\n",
       "      <td>6.000</td>\n",
       "      <td>19.180</td>\n",
       "      <td>0.000</td>\n",
       "      <td>0.152</td>\n",
       "      <td>0.102</td>\n",
       "      <td>0.073</td>\n",
       "      <td>44.445</td>\n",
       "      <td>24.340</td>\n",
       "      <td>16.226</td>\n",
       "    </tr>\n",
       "    <tr>\n",
       "      <th>max</th>\n",
       "      <td>6207104.000</td>\n",
       "      <td>4154590.000</td>\n",
       "      <td>771203.000</td>\n",
       "      <td>82902.830</td>\n",
       "      <td>175375.000</td>\n",
       "      <td>30.000</td>\n",
       "      <td>599.310</td>\n",
       "      <td>0.274</td>\n",
       "      <td>0.196</td>\n",
       "      <td>59.266</td>\n",
       "      <td>15042.790</td>\n",
       "      <td>374.640</td>\n",
       "      <td>374.640</td>\n",
       "      <td>32.000</td>\n",
       "      <td>24570.650</td>\n",
       "      <td>13.000</td>\n",
       "      <td>320.000</td>\n",
       "      <td>1.000</td>\n",
       "      <td>0.281</td>\n",
       "      <td>0.230</td>\n",
       "      <td>0.114</td>\n",
       "      <td>59.445</td>\n",
       "      <td>36.491</td>\n",
       "      <td>17.458</td>\n",
       "    </tr>\n",
       "  </tbody>\n",
       "</table>\n",
       "</div>"
      ],
      "text/plain": [
       "         cons_12m  cons_gas_12m  cons_last_month  forecast_cons_12m  \\\n",
       "count  175149.000    175149.000       175149.000         175149.000   \n",
       "mean   159260.579     28080.718        16095.518           1868.344   \n",
       "std    573541.331    162940.034        64376.742           2387.560   \n",
       "min         0.000         0.000            0.000              0.000   \n",
       "25%      5674.000         0.000            0.000            494.980   \n",
       "50%     14115.000         0.000          792.000           1112.610   \n",
       "75%     40763.000         0.000         3383.000           2400.350   \n",
       "max   6207104.000   4154590.000       771203.000          82902.830   \n",
       "\n",
       "       forecast_cons_year  forecast_discount_energy  forecast_meter_rent_12m  \\\n",
       "count          175149.000                175149.000               175149.000   \n",
       "mean             1399.782                     0.967                   63.075   \n",
       "std              3248.331                     5.109                   66.144   \n",
       "min                 0.000                     0.000                    0.000   \n",
       "25%                 0.000                     0.000                   16.180   \n",
       "50%               314.000                     0.000                   18.790   \n",
       "75%              1745.000                     0.000                  131.030   \n",
       "max            175375.000                    30.000                  599.310   \n",
       "\n",
       "       forecast_price_energy_off_peak  forecast_price_energy_peak  \\\n",
       "count                      175149.000                  175149.000   \n",
       "mean                            0.137                       0.050   \n",
       "std                             0.025                       0.049   \n",
       "min                             0.000                       0.000   \n",
       "25%                             0.116                       0.000   \n",
       "50%                             0.143                       0.084   \n",
       "75%                             0.146                       0.099   \n",
       "max                             0.274                       0.196   \n",
       "\n",
       "       forecast_price_pow_off_peak   imp_cons  margin_gross_pow_ele  \\\n",
       "count                   175149.000 175149.000            175149.000   \n",
       "mean                        43.130    152.790                24.567   \n",
       "std                          4.487    341.427                20.234   \n",
       "min                          0.000      0.000                 0.000   \n",
       "25%                         40.607      0.000                14.280   \n",
       "50%                         44.311     37.390                21.640   \n",
       "75%                         44.311    193.990                29.880   \n",
       "max                         59.266  15042.790               374.640   \n",
       "\n",
       "       margin_net_pow_ele  nb_prod_act  net_margin  num_years_antig  \\\n",
       "count          175149.000   175149.000  175149.000       175149.000   \n",
       "mean               24.564        1.292     189.245            4.998   \n",
       "std                20.234        0.710     311.847            1.612   \n",
       "min                 0.000        1.000       0.000            1.000   \n",
       "25%                14.280        1.000      50.710            4.000   \n",
       "50%                21.640        1.000     112.500            5.000   \n",
       "75%                29.880        1.000     243.000            6.000   \n",
       "max               374.640       32.000   24570.650           13.000   \n",
       "\n",
       "         pow_max      churn  price_off_peak_var  price_peak_var  \\\n",
       "count 175149.000 175149.000          175149.000      175149.000   \n",
       "mean      18.135      0.097               0.142           0.052   \n",
       "std       13.536      0.296               0.023           0.050   \n",
       "min        3.300      0.000               0.000           0.000   \n",
       "25%       12.500      0.000               0.127           0.000   \n",
       "50%       13.856      0.000               0.147           0.084   \n",
       "75%       19.180      0.000               0.152           0.102   \n",
       "max      320.000      1.000               0.281           0.230   \n",
       "\n",
       "       price_mid_peak_var  price_off_peak_fix  price_peak_fix  \\\n",
       "count          175149.000          175149.000      175149.000   \n",
       "mean                0.028              42.929           9.459   \n",
       "std                 0.036               4.621          12.133   \n",
       "min                 0.000               0.000           0.000   \n",
       "25%                 0.000              40.729           0.000   \n",
       "50%                 0.000              44.267           0.000   \n",
       "75%                 0.073              44.445          24.340   \n",
       "max                 0.114              59.445          36.491   \n",
       "\n",
       "       price_mid_peak_fix  \n",
       "count          175149.000  \n",
       "mean                6.096  \n",
       "std                 7.822  \n",
       "min                 0.000  \n",
       "25%                 0.000  \n",
       "50%                 0.000  \n",
       "75%                16.226  \n",
       "max                17.458  "
      ]
     },
     "execution_count": 27,
     "metadata": {},
     "output_type": "execute_result"
    }
   ],
   "source": [
    "# Stats on numeric columns\n",
    "energy_data.describe()"
   ]
  },
  {
   "cell_type": "markdown",
   "metadata": {},
   "source": [
    "Consumption seems to contain a few outliers that are skewing the distributions greatly. Since we are dealing with energy data, these extreme values could be normal so we cannot simply discard them."
   ]
  },
  {
   "cell_type": "markdown",
   "metadata": {},
   "source": [
    " Let's now check for any duplicates."
   ]
  },
  {
   "cell_type": "code",
   "execution_count": 28,
   "metadata": {},
   "outputs": [
    {
     "data": {
      "text/plain": [
       "0"
      ]
     },
     "execution_count": 28,
     "metadata": {},
     "output_type": "execute_result"
    }
   ],
   "source": [
    "# Check for duplicates\n",
    "energy_data.duplicated().sum()"
   ]
  },
  {
   "cell_type": "markdown",
   "metadata": {},
   "source": [
    "Let's now perform data validation to spot any mismatches."
   ]
  },
  {
   "cell_type": "code",
   "execution_count": 29,
   "metadata": {},
   "outputs": [
    {
     "data": {
      "text/html": [
       "<div>\n",
       "<style scoped>\n",
       "    .dataframe tbody tr th:only-of-type {\n",
       "        vertical-align: middle;\n",
       "    }\n",
       "\n",
       "    .dataframe tbody tr th {\n",
       "        vertical-align: top;\n",
       "    }\n",
       "\n",
       "    .dataframe thead th {\n",
       "        text-align: right;\n",
       "    }\n",
       "</style>\n",
       "<table border=\"1\" class=\"dataframe\">\n",
       "  <thead>\n",
       "    <tr style=\"text-align: right;\">\n",
       "      <th></th>\n",
       "      <th>cons_gas_12m</th>\n",
       "      <th>has_gas</th>\n",
       "    </tr>\n",
       "  </thead>\n",
       "  <tbody>\n",
       "    <tr>\n",
       "      <th>2532</th>\n",
       "      <td>458306</td>\n",
       "      <td>f</td>\n",
       "    </tr>\n",
       "    <tr>\n",
       "      <th>2533</th>\n",
       "      <td>458306</td>\n",
       "      <td>f</td>\n",
       "    </tr>\n",
       "    <tr>\n",
       "      <th>2534</th>\n",
       "      <td>458306</td>\n",
       "      <td>f</td>\n",
       "    </tr>\n",
       "    <tr>\n",
       "      <th>2535</th>\n",
       "      <td>458306</td>\n",
       "      <td>f</td>\n",
       "    </tr>\n",
       "    <tr>\n",
       "      <th>2536</th>\n",
       "      <td>458306</td>\n",
       "      <td>f</td>\n",
       "    </tr>\n",
       "  </tbody>\n",
       "</table>\n",
       "</div>"
      ],
      "text/plain": [
       "      cons_gas_12m has_gas\n",
       "2532        458306       f\n",
       "2533        458306       f\n",
       "2534        458306       f\n",
       "2535        458306       f\n",
       "2536        458306       f"
      ]
     },
     "metadata": {},
     "output_type": "display_data"
    },
    {
     "data": {
      "text/plain": [
       "634"
      ]
     },
     "metadata": {},
     "output_type": "display_data"
    }
   ],
   "source": [
    "# Data validation\n",
    "consumes_gas = energy_data.cons_gas_12m > 0\n",
    "not_gas_client = energy_data.has_gas == 'f'\n",
    "\n",
    "display(energy_data[(consumes_gas) & (not_gas_client)][['cons_gas_12m', 'has_gas']].head())\n",
    "display(energy_data[(consumes_gas) & (not_gas_client)].shape[0])"
   ]
  },
  {
   "cell_type": "markdown",
   "metadata": {},
   "source": [
    "There are 634 instances where a customer is not a gas client but consumes gas. This may be true for the same customer more than once. We should convert the `has_gas` to \"true\" for these customers."
   ]
  },
  {
   "cell_type": "code",
   "execution_count": 30,
   "metadata": {},
   "outputs": [],
   "source": [
    "# Convert non-gas samples that consume gas to gas clients\n",
    "energy_data.loc[(consumes_gas) & (not_gas_client), 'has_gas'] = 't'"
   ]
  },
  {
   "cell_type": "markdown",
   "metadata": {},
   "source": [
    "Let's now compare activation and ending dates for contracts."
   ]
  },
  {
   "cell_type": "code",
   "execution_count": 31,
   "metadata": {},
   "outputs": [
    {
     "name": "stdout",
     "output_type": "stream",
     "text": [
      "There are 0 date contract start and end errors.\n"
     ]
    }
   ],
   "source": [
    "# Compare activation and ending dates on contracts\n",
    "print(f'There are {energy_data[energy_data.date_activ > energy_data.date_end].shape[0]} date contract start and end errors.')"
   ]
  },
  {
   "cell_type": "code",
   "execution_count": 32,
   "metadata": {},
   "outputs": [
    {
     "name": "stdout",
     "output_type": "stream",
     "text": [
      "['t' 'f']\n",
      "[1 0]\n"
     ]
    }
   ],
   "source": [
    "# Check has_gas and churn columns for inconsistency\n",
    "print(energy_data.has_gas.unique())\n",
    "print(energy_data.churn.unique())"
   ]
  },
  {
   "cell_type": "markdown",
   "metadata": {},
   "source": [
    "We should convert the `has_gas` column into 0 for false, and 1 for true."
   ]
  },
  {
   "cell_type": "code",
   "execution_count": 33,
   "metadata": {},
   "outputs": [],
   "source": [
    "energy_data.has_gas.replace({'f':0, 't':1}, inplace=True)"
   ]
  },
  {
   "cell_type": "code",
   "execution_count": 34,
   "metadata": {},
   "outputs": [
    {
     "data": {
      "image/png": "[encoded data removed]",
      "text/plain": [
       "<Figure size 1080x720 with 2 Axes>"
      ]
     },
     "metadata": {
      "needs_background": "light"
     },
     "output_type": "display_data"
    }
   ],
   "source": [
    "# Plot correlation matrix between features\n",
    "plt.figure(figsize=(15,10))\n",
    "sns.heatmap(energy_data.corr(), fmt='.1g', cmap='vlag_r', vmin=-1, vmax=1)\n",
    "plt.show()"
   ]
  },
  {
   "cell_type": "markdown",
   "metadata": {},
   "source": [
    "As shown in the graph, there are many features correlated with one another. To handle this multicollinearity, in the next task/section we'll implement princple component analysis (PCA). PCA not only reduces the dimensionality (features) of our data minimizing information loss (explained variance), it also uncorrelates our data.\n",
    "\n",
    "Here is the list of correlated features as shown above:\n",
    "\n",
    "1. cons_12m and cons_last_month\n",
    "2. forecast_cons_12m and forecast_cons_year\n",
    "3. forecast_cons_12m and imp_cons\n",
    "4. forecast_cons_12m and net_margin\n",
    "5. forecast_cons_year and imp_cons\n",
    "6. forecast_meter_rent_12m price_p2_var\n",
    "7. forecast_meter_rent_12m price_p3_var\n",
    "8. forecast_meter_rent_12m price_p2_fix\n",
    "9. forecast_meter_rent_12m price_p3_fix\n",
    "10. forecast_price_energy_p1 and price_p1_var\n",
    "11. forecast_price_energy_p1 and price_p3_var\n",
    "12. forecast_price_energy_p1 and price_p2_fix\n",
    "13. forecast_price_energy_p2 and price_p2_var\n",
    "14. forecast_price_energy_p2 and price_p3_var\n",
    "15. forecast_price_energy_p2 and price_p2_fix\n",
    "16. forecast_price_energy_p2 and price_p3_fix\n",
    "17. forecast_price_pow_p1 and price_p1_fix\n",
    "18. margin_gross_pow_ele and margin_net_pow_ele\n",
    "19. net_margin and forecast_cons_12m\n",
    "20. price_p2_var and price_p3_var\n",
    "21. price_p2_var and price_p2_fix\n",
    "22. price_p2_var and price_p3_fix\n",
    "23. price_p3_var and price_p1_var\n",
    "24. price_p3_var and price_p2_fix\n",
    "25. price_p3_var and price_p3_fix"
   ]
  },
  {
   "cell_type": "code",
   "execution_count": 29,
   "metadata": {},
   "outputs": [],
   "source": [
    "# Drop columns with correlations greater than 0.75\n",
    "# corr_columns = ['cons_last_month', 'forecast_cons_12m', 'forecast_cons_year','forecast_meter_rent_12m', 'forecast_price_energy_p2', 'margin_gross_pow_ele', 'price_p1_var', 'price_p2_var', 'price_p3_var', 'price_p1_fix', 'price_p2_fix']\n",
    "# data.drop(corr_columns, axis=1, inplace=True)"
   ]
  },
  {
   "cell_type": "code",
   "execution_count": 30,
   "metadata": {},
   "outputs": [],
   "source": [
    "# Plot correlation matrix with new dataframe \n",
    "# plt.figure(figsize=(12,8))\n",
    "# sns.heatmap(data.corr(), cmap='vlag_r', vmin=-1, vmax=1)\n",
    "# plt.show()"
   ]
  },
  {
   "cell_type": "code",
   "execution_count": 46,
   "metadata": {},
   "outputs": [
    {
     "data": {
      "image/png": "[encoded data removed]",
      "text/plain": [
       "<Figure size 432x288 with 1 Axes>"
      ]
     },
     "metadata": {
      "needs_background": "light"
     },
     "output_type": "display_data"
    }
   ],
   "source": [
    "# Visualize churn\n",
    "g = sns.countplot(x='has_gas', hue='churn', data=energy_data.drop_duplicates(subset='id'))\n",
    "\n",
    "plt.title('Churn and Non-churn Customers')\n",
    "plt.xlabel('Gas Client')\n",
    "plt.ylabel('Count')\n",
    "g.legend_.set_title('Churned')\n",
    "plt.show()"
   ]
  },
  {
   "cell_type": "markdown",
   "metadata": {},
   "source": [
    "Less than 2,000 customers out of almost 16,096 have churned. Of those, most of them tend to not be gas clients. Let's find the current churn rate."
   ]
  },
  {
   "cell_type": "code",
   "execution_count": 32,
   "metadata": {},
   "outputs": [
    {
     "name": "stdout",
     "output_type": "stream",
     "text": [
      "The total number of churned customers is 1513 and the current churn rate is 9.67 %\n"
     ]
    }
   ],
   "source": [
    "# Number of churned customers\n",
    "num_churned = energy_data[energy_data.churn == 1].id.nunique()\n",
    "\n",
    "# Percent of churners\n",
    "churn_rate = energy_data[energy_data.churn == 1].id.nunique() / energy_data.id.nunique()\n",
    "\n",
    "print('The total number of churned customers is', num_churned, 'and the current churn rate is', round(churn_rate*100, 2),'%')"
   ]
  },
  {
   "cell_type": "code",
   "execution_count": 49,
   "metadata": {},
   "outputs": [
    {
     "data": {
      "text/plain": [
       "0.09715185540188963"
      ]
     },
     "execution_count": 49,
     "metadata": {},
     "output_type": "execute_result"
    }
   ],
   "source": [
    "energy_data.drop_duplicates(subset='id').churn.mean()"
   ]
  },
  {
   "cell_type": "markdown",
   "metadata": {},
   "source": [
    "Almost 10% of PowerCo's clients are leaving."
   ]
  },
  {
   "cell_type": "code",
   "execution_count": 50,
   "metadata": {},
   "outputs": [
    {
     "data": {
      "image/png": "[encoded data removed]",
      "text/plain": [
       "<Figure size 1296x720 with 6 Axes>"
      ]
     },
     "metadata": {
      "needs_background": "light"
     },
     "output_type": "display_data"
    }
   ],
   "source": [
    "fig, ax = plt.subplots(2, 3, sharex=True, figsize=(18, 10))\n",
    "fig.suptitle('Potential Variable Drivers vs. Churn')\n",
    "\n",
    "sns.boxplot(x='has_gas', y='cons_12m', hue='churn', data=energy_data, sym='', ax=ax[0,0])\n",
    "ax[0,0].set_title('12 Month Electricity Consumption vs. Churn')\n",
    "\n",
    "sns.boxplot(x='churn', y='cons_gas_12m', data=energy_data.query('has_gas == 1'), sym='', ax=ax[0,1])\n",
    "ax[0,1].set_title('12 Month Gas Consumption vs. Churn')\n",
    "\n",
    "sns.boxplot(x='has_gas', y='margin_net_pow_ele', hue='churn', data=energy_data, sym='', ax=ax[0,2])\n",
    "ax[0,2].set_title('Net Margin on Power Subscription vs. Churn')\n",
    "\n",
    "sns.boxplot(x='has_gas', y='num_years_antig', hue='churn', data=energy_data, sym='', ax=ax[1,0])\n",
    "ax[1,0].set_title('Antiquity Years vs. Churn')\n",
    "\n",
    "sns.boxplot(x='has_gas', y='pow_max', hue='churn', data=energy_data, sym='', ax=ax[1,1])\n",
    "ax[1,1].set_title('Subscribed Power vs. Churn')\n",
    "\n",
    "sns.boxplot(x='has_gas', y='net_margin', hue='churn', data=energy_data, sym='', ax=ax[1,2])\n",
    "ax[1,2].set_title('Total net margin vs. Churn')\n",
    "\n",
    "plt.show()"
   ]
  },
  {
   "cell_type": "markdown",
   "metadata": {},
   "source": [
    "Customers who churned have lower electricity and gas consumption levels than non-churners, except they are about even if the client does not use gas.\n",
    "\n",
    "Customers who have a higher net margin seem to churn more. Perhaps customers are more inclined to churn if their net margin on power subscription is higher than the non-churner average? Whether or not the client uses gas does not differentiate the groups by much in this case.\n",
    "\n",
    "There doesn't seem to be much of a difference when comparing number of antiquity and churn.\n",
    "\n",
    "We can see that subscribed power and total net margin seems to be an influencial factor for churn, witht the former being slightly stronger."
   ]
  },
  {
   "cell_type": "markdown",
   "metadata": {},
   "source": [
    "Let's now look into the distributions of the variables we plotted."
   ]
  },
  {
   "cell_type": "code",
   "execution_count": 57,
   "metadata": {},
   "outputs": [
    {
     "data": {
      "image/png": "[encoded data removed]",
      "text/plain": [
       "<Figure size 1440x864 with 6 Axes>"
      ]
     },
     "metadata": {
      "needs_background": "light"
     },
     "output_type": "display_data"
    }
   ],
   "source": [
    "fig, ax = plt.subplots(2, 3, figsize=(20, 12))\n",
    "\n",
    "sns.histplot(energy_data.query('cons_12m < 400000').cons_12m, bins=20, ax=ax[0,0])\n",
    "ax[0,0].set_title('12 Month Electricity Consumption Distribution')\n",
    "\n",
    "sns.histplot(energy_data.query('cons_gas_12m < 20000').cons_gas_12m, bins=20, ax=ax[0,1])\n",
    "ax[0,1].set_title('12 Month Gas Consumption Distribution')\n",
    "\n",
    "sns.histplot(energy_data.margin_net_pow_ele, bins=30, ax=ax[0,2])\n",
    "ax[0,2].set_title('Net Margin on Power Subscription Distribution')\n",
    "\n",
    "sns.histplot(energy_data.num_years_antig, bins=15, ax=ax[1,0])\n",
    "ax[1,0].set_title('Antiquity Year Distribution')\n",
    "\n",
    "sns.histplot(energy_data.query('pow_max < 100').pow_max, bins=15, ax=ax[1,1])\n",
    "ax[1,1].set_title('Subscribed Power Distribution')\n",
    "\n",
    "sns.histplot(energy_data.query('net_margin < 2000').net_margin, bins=15, ax=ax[1,2])\n",
    "ax[1,2].set_title('Total Net Margin Distribution')\n",
    "\n",
    "plt.show()"
   ]
  },
  {
   "cell_type": "markdown",
   "metadata": {},
   "source": [
    "## Tasks\n",
    "\n",
    "### 1. Is Price Sensitivity Correlated with Churn?"
   ]
  },
  {
   "cell_type": "code",
   "execution_count": 59,
   "metadata": {},
   "outputs": [
    {
     "data": {
      "text/plain": [
       "count   14606.000\n",
       "mean      152.787\n",
       "std       341.369\n",
       "min         0.000\n",
       "25%         0.000\n",
       "50%        37.395\n",
       "75%       193.980\n",
       "max     15042.790\n",
       "Name: imp_cons, dtype: float64"
      ]
     },
     "execution_count": 59,
     "metadata": {},
     "output_type": "execute_result"
    }
   ],
   "source": [
    "customer_data.imp_cons.describe()"
   ]
  },
  {
   "cell_type": "markdown",
   "metadata": {},
   "source": [
    "# Save Cleaned Data to Pickle"
   ]
  },
  {
   "cell_type": "code",
   "execution_count": 35,
   "metadata": {},
   "outputs": [],
   "source": [
    "#energy_data.to_pickle('BCG_data_cleaned.pickle')"
   ]
  }
 ],
 "metadata": {
  "kernelspec": {
   "display_name": "Python 3.10.2 ('ml_env')",
   "language": "python",
   "name": "python3"
  },
  "language_info": {
   "codemirror_mode": {
    "name": "ipython",
    "version": 3
   },
   "file_extension": ".py",
   "mimetype": "text/x-python",
   "name": "python",
   "nbconvert_exporter": "python",
   "pygments_lexer": "ipython3",
   "version": "3.10.2"
  },
  "orig_nbformat": 2,
  "vscode": {
   "interpreter": {
    "hash": "56d92c3c4eb078514d6af950c77e71013bbef4a25944e30d84096dc9797e13f7"
   }
  }
 },
 "nbformat": 4,
 "nbformat_minor": 2
}
